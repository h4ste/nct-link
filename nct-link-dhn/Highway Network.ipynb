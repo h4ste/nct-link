{
 "cells": [
  {
   "cell_type": "markdown",
   "metadata": {},
   "source": [
    "## Step 1: Load vectors (SVM-Rank format)"
   ]
  },
  {
   "cell_type": "code",
   "execution_count": 1,
   "metadata": {
    "collapsed": true
   },
   "outputs": [],
   "source": [
    "from __future__ import print_function\n",
    "\n",
    "from sklearn.datasets import load_svmlight_file\n",
    "\n",
    "class Data(object):\n",
    "    def __init__( self, X, y, qid, source):\n",
    "        self.X = X.toarray()\n",
    "        self.y = y\n",
    "        self.qid = qid\n",
    "        self.source = source\n",
    "    \n",
    "def load_data(vectors):\n",
    "    return Data(*load_svmlight_file(vectors, zero_based=False, query_id=True), source=vectors)\n",
    "\n",
    "train = load_data(\"/home/travis/work/nct_link/experiments/rand500/l2r_v4/train.full/vectors.shuf.smr\")"
   ]
  },
  {
   "cell_type": "markdown",
   "metadata": {
    "collapsed": true
   },
   "source": [
    "## Step 2: Preprocess data (using the pairwise transform)"
   ]
  },
  {
   "cell_type": "code",
   "execution_count": 2,
   "metadata": {},
   "outputs": [
    {
     "name": "stderr",
     "output_type": "stream",
     "text": [
      "100%|██████████| 300/300 [00:00<00:00, 495.29it/s]\n"
     ]
    },
    {
     "name": "stdout",
     "output_type": "stream",
     "text": [
      "Created data with X (36980, 147)  and y (36980,)\n"
     ]
    }
   ],
   "source": [
    "from itertools import combinations\n",
    "from tqdm import tqdm\n",
    "import numpy as np\n",
    "\n",
    "class PairwiseData(object):\n",
    "    def __init__( self, X, y):\n",
    "        self.X = X.astype(np.float32)\n",
    "        self.y = y.flatten()\n",
    "        print(\"Created data with X\", X.shape, \" and y\", y.shape)\n",
    "\n",
    "def pairwise_transform(data):\n",
    "    X_p, y_p, qid_p = [], [], []      \n",
    "    qids, idx_start, count = np.unique(data.qid, return_counts=True, return_index=True)\n",
    "    for qid in tqdm(qids):\n",
    "        start = idx_start[qid]\n",
    "        end = start + count[qid]\n",
    "        X = data.X[start:end, :]\n",
    "        y = data.y[start:end]\n",
    "        assert np.all(data.qid[start:end] == qid)\n",
    "        for k, (i, j) in enumerate(combinations(xrange(X.shape[0]), 2)):\n",
    "            if y[i] == y[j]:\n",
    "                # skip if same target or different group\n",
    "                continue\n",
    "            x_diff = (X[i] - X[j])\n",
    "            X_p.append(x_diff)\n",
    "            y_p.append(np.sign(y[i] - y[j]))\n",
    "            qid_p.append(qid)\n",
    "            # output balanced classes\n",
    "            if y_p[-1] != (-1) ** k:\n",
    "                y_p[-1] = - y_p[-1]\n",
    "                X_p[-1] = - X_p[-1]\n",
    "            y_p[-1] = .5 * (y_p[-1] + 1)\n",
    "    return PairwiseData(np.vstack(X_p), np.array(y_p))\n",
    "\n",
    "train_p = pairwise_transform(train)"
   ]
  },
  {
   "cell_type": "markdown",
   "metadata": {},
   "source": [
    "## Step 3: Build & train model"
   ]
  },
  {
   "cell_type": "code",
   "execution_count": 4,
   "metadata": {},
   "outputs": [
    {
     "ename": "TypeError",
     "evalue": "fit() got an unexpected keyword argument 'n_epochs'",
     "traceback": [
      "\u001b[0;31m---------------------------------------------------------------------------\u001b[0m",
      "\u001b[0;31mTypeError\u001b[0m                                 Traceback (most recent call last)",
      "\u001b[0;32m<ipython-input-4-7ba301016346>\u001b[0m in \u001b[0;36m<module>\u001b[0;34m()\u001b[0m\n\u001b[1;32m     22\u001b[0m \u001b[0;34m\u001b[0m\u001b[0m\n\u001b[1;32m     23\u001b[0m \u001b[0mpairwise_model\u001b[0m \u001b[0;34m=\u001b[0m \u001b[0mbuild_l2r_highway_model\u001b[0m\u001b[0;34m(\u001b[0m\u001b[0mlayers\u001b[0m\u001b[0;34m=\u001b[0m\u001b[0;36m20\u001b[0m\u001b[0;34m,\u001b[0m\u001b[0mdims\u001b[0m\u001b[0;34m=\u001b[0m\u001b[0;36m500\u001b[0m\u001b[0;34m)\u001b[0m\u001b[0;34m\u001b[0m\u001b[0m\n\u001b[0;32m---> 24\u001b[0;31m \u001b[0mpairwise_model\u001b[0m\u001b[0;34m.\u001b[0m\u001b[0mfit\u001b[0m\u001b[0;34m(\u001b[0m\u001b[0mtrain_p\u001b[0m\u001b[0;34m.\u001b[0m\u001b[0mX\u001b[0m\u001b[0;34m,\u001b[0m \u001b[0mtrain_p\u001b[0m\u001b[0;34m.\u001b[0m\u001b[0my\u001b[0m\u001b[0;34m,\u001b[0m \u001b[0mshow_metric\u001b[0m\u001b[0;34m=\u001b[0m\u001b[0mTrue\u001b[0m\u001b[0;34m,\u001b[0m \u001b[0msnapshot_epoch\u001b[0m\u001b[0;34m=\u001b[0m\u001b[0mFalse\u001b[0m\u001b[0;34m,\u001b[0m \u001b[0mn_epochs\u001b[0m\u001b[0;34m=\u001b[0m\u001b[0;36m30\u001b[0m\u001b[0;34m)\u001b[0m\u001b[0;34m\u001b[0m\u001b[0m\n\u001b[0m\u001b[1;32m     25\u001b[0m \u001b[0;34m\u001b[0m\u001b[0m\n",
      "\u001b[0;31mTypeError\u001b[0m: fit() got an unexpected keyword argument 'n_epochs'"
     ],
     "output_type": "error"
    }
   ],
   "source": [
    "import tensorflow as tf\n",
    "import tflearn\n",
    "\n",
    "def build_l2r_highway_model(layers=10, dims=147):\n",
    "        tf.reset_default_graph()\n",
    "        with tf.Graph().as_default() as graph:\n",
    "            dpp = tflearn.DataPreprocessing()\n",
    "            dpp.add_featurewise_zero_center()\n",
    "            dpp.add_featurewise_stdnorm()\n",
    "            net = tflearn.input_data(shape=[None, 147], data_preprocessing=dpp)\n",
    "            net = tflearn.fully_connected(net, dims)\n",
    "            for _ in xrange(layers):\n",
    "                net = tflearn.highway(net, dims, activation='ReLU')\n",
    "    #                 net = tflearn.batch_normalization(net)\n",
    "            net = tflearn.fully_connected(net, 2, activation='softmax')\n",
    "            adam = tflearn.Adam (learning_rate=0.00001, beta1=0.9, beta2=0.999)\n",
    "            net = tflearn.regression(net, optimizer=adam, to_one_hot=True, n_classes=2,  n_epochs=30)\n",
    "\n",
    "            # Define model\n",
    "            model = tflearn.DNN(net)\n",
    "            return model #, graph, scope\n",
    "\n",
    "pairwise_model = build_l2r_highway_model(layers=20,dims=500)\n",
    "pairwise_model.fit(train_p.X, train_p.y, show_metric=True, snapshot_epoch=False)\n",
    "\n"
   ]
  },
  {
   "cell_type": "code",
   "execution_count": 44,
   "metadata": {},
   "outputs": [
    {
     "data": {
      "text/plain": [
       "array([[ 0.58463621,  0.41536382],\n",
       "       [ 0.58425748,  0.41574255],\n",
       "       [ 0.58304197,  0.41695809],\n",
       "       ..., \n",
       "       [ 0.61080718,  0.38919282],\n",
       "       [ 0.61487448,  0.38512552],\n",
       "       [ 0.59949452,  0.40050545]], dtype=float32)"
      ]
     },
     "execution_count": 44,
     "metadata": {},
     "output_type": "execute_result"
    }
   ],
   "source": [
    "pairwise_model.predict(train.X)"
   ]
  },
  {
   "cell_type": "markdown",
   "metadata": {},
   "source": [
    "## Test the model"
   ]
  },
  {
   "cell_type": "code",
   "execution_count": 15,
   "metadata": {
    "collapsed": true
   },
   "outputs": [],
   "source": [
    "import subprocess\n",
    "\n",
    "# Run an external command pipe it to stdout\n",
    "def run_command(cmd):\n",
    "    p = subprocess.Popen(cmd, shell=True, stdout=subprocess.PIPE, stderr=subprocess.STDOUT)\n",
    "    print(*p.stdout.readlines())\n",
    "    return p.wait()\n",
    "\n",
    "# Produce a TREC submission file\n",
    "def write_trec_submission_file(source, scores, name, dest):\n",
    "    topic_ids = []\n",
    "    doc_ids = []\n",
    "    with open(source) as vectors:\n",
    "        for line in vectors:\n",
    "            comment = line.split('#')[1].strip()\n",
    "            segments = comment.split('::')\n",
    "            topic_ids.append(segments[0])\n",
    "            doc_ids.append(segments[1])\n",
    "\n",
    "    with open(dest, 'w') as dest:\n",
    "        for i, score in enumerate(scores):\n",
    "            print(topic_ids[i], 'Q0', doc_ids[i], '1', score, name, file=dest)\n",
    "            \n",
    "def run_trec_eval(qrels, submission, options=''):\n",
    "    command = 'trec_eval %s %s %s' % (options, qrels, submission)\n",
    "    run_command(command)\n",
    "\n",
    "# Evaluate the vectors in an experiment folder\n",
    "def evaluate_folder(folder, qrels, model, scope=None, graph=None, name='highway', scorer=lambda x: x[:,0]):\n",
    "    # Load svm-rank vectors\n",
    "    test = load_data(folder + \"/vectors.shuf.smr\")\n",
    "    \n",
    "    # Get predictions of class +1 (e.g., that a doc is relevant)\n",
    "    y_pred = model.predict(test.X)\n",
    "\n",
    "    # Write the TREC submission file in the experiment folder\n",
    "    write_trec_submission_file(test.source, scorer(y_pred), name, folder + '/' + name + '.txt')\n",
    "    \n",
    "    # Evaluate results with trec_eval\n",
    "    run_trec_eval(qrels, folder + '/' + name + '.txt')"
   ]
  },
  {
   "cell_type": "code",
   "execution_count": 23,
   "metadata": {},
   "outputs": [
    {
     "name": "stdout",
     "output_type": "stream",
     "text": [
      "Training Step: 5780  | total loss: \u001b[1m\u001b[32m0.22391\u001b[0m\u001b[0m | time: 9.776s\n",
      "\u001b[2K\r",
      "| Adam | epoch: 010 | loss: 0.22391 - acc: 0.9018 -- iter: 36980/36980\n"
     ]
    }
   ],
   "source": [
    "\n"
   ]
  },
  {
   "cell_type": "code",
   "execution_count": 45,
   "metadata": {},
   "outputs": [
    {
     "name": "stdout",
     "output_type": "stream",
     "text": [
      "runid                 \tall\thighway\n",
      " num_q                 \tall\t300\n",
      " num_ret               \tall\t12765\n",
      " num_rel               \tall\t1060\n",
      " num_rel_ret           \tall\t939\n",
      " map                   \tall\t0.2282\n",
      " gm_map                \tall\t0.0520\n",
      " Rprec                 \tall\t0.1933\n",
      " bpref                 \tall\t0.1866\n",
      " recip_rank            \tall\t0.2417\n",
      " iprec_at_recall_0.00  \tall\t0.2689\n",
      " iprec_at_recall_0.10  \tall\t0.2688\n",
      " iprec_at_recall_0.20  \tall\t0.2658\n",
      " iprec_at_recall_0.30  \tall\t0.2658\n",
      " iprec_at_recall_0.40  \tall\t0.2514\n",
      " iprec_at_recall_0.50  \tall\t0.2446\n",
      " iprec_at_recall_0.60  \tall\t0.2274\n",
      " iprec_at_recall_0.70  \tall\t0.2255\n",
      " iprec_at_recall_0.80  \tall\t0.2170\n",
      " iprec_at_recall_0.90  \tall\t0.2062\n",
      " iprec_at_recall_1.00  \tall\t0.1998\n",
      " P_5                   \tall\t0.0520\n",
      " P_10                  \tall\t0.0290\n",
      " P_15                  \tall\t0.0298\n",
      " P_20                  \tall\t0.0275\n",
      " P_30                  \tall\t0.0296\n",
      " P_100                 \tall\t0.0300\n",
      " P_200                 \tall\t0.0156\n",
      " P_500                 \tall\t0.0063\n",
      " P_1000                \tall\t0.0031\n",
      "\n"
     ]
    }
   ],
   "source": [
    "evaluate_folder('/home/travis/work/nct_link/experiments/rand500/l2r_v4/train.full/',\n",
    "               '/home/travis/data/nct_link/l2r/rand500/qrels.train.full.txt', pairwise_model, 'highway-10')"
   ]
  },
  {
   "cell_type": "code",
   "execution_count": 19,
   "metadata": {},
   "outputs": [
    {
     "ename": "NameError",
     "evalue": "name 'scaled_model_fulls' is not defined",
     "traceback": [
      "\u001b[0;31m---------------------------------------------------------------------------\u001b[0m",
      "\u001b[0;31mNameError\u001b[0m                                 Traceback (most recent call last)",
      "\u001b[0;32m<ipython-input-19-82d6aecf06bd>\u001b[0m in \u001b[0;36m<module>\u001b[0;34m()\u001b[0m\n\u001b[1;32m      9\u001b[0m \u001b[0;34m\u001b[0m\u001b[0m\n\u001b[1;32m     10\u001b[0m \u001b[0;34m\u001b[0m\u001b[0m\n\u001b[0;32m---> 11\u001b[0;31m \u001b[0my_pred\u001b[0m \u001b[0;34m=\u001b[0m \u001b[0mscaled_model_fulls\u001b[0m\u001b[0;34m.\u001b[0m\u001b[0mpredict\u001b[0m\u001b[0;34m(\u001b[0m\u001b[0mtest\u001b[0m\u001b[0;34m.\u001b[0m\u001b[0mX\u001b[0m\u001b[0;34m.\u001b[0m\u001b[0mtoarray\u001b[0m\u001b[0;34m(\u001b[0m\u001b[0;34m)\u001b[0m\u001b[0;34m)\u001b[0m\u001b[0;34m\u001b[0m\u001b[0m\n\u001b[0m\u001b[1;32m     12\u001b[0m \u001b[0;34m\u001b[0m\u001b[0m\n\u001b[1;32m     13\u001b[0m \u001b[0;31m# Write the TREC submission file in the experiment folder\u001b[0m\u001b[0;34m\u001b[0m\u001b[0;34m\u001b[0m\u001b[0m\n",
      "\u001b[0;31mNameError\u001b[0m: name 'scaled_model_fulls' is not defined"
     ],
     "output_type": "error"
    }
   ],
   "source": [
    "from sklearn.metrics import classification_report,confusion_matrix\n",
    "\n",
    "\n",
    "test = load_data(\"/home/travis/work/nct_link/experiments/rand500/l2r_v4/test.full/vectors.smr\")\n",
    "\n",
    "def print_evaluation(preds, gold):\n",
    "#    print(classification_report(preds, gold))\n",
    "    print(sorted(zip(preds, gold), key=lambda x: x[0], reverse=True)[:10])\n",
    "\n",
    "\n",
    "y_pred = scaled_model_fulls.predict(test.X.toarray())\n",
    "\n",
    "# Write the TREC submission file in the experiment folder\n",
    "name = \"test\"\n",
    "write_trec_submission_file(test.source, y_pred[:, 1], name, '/tmp/' + name + '.txt')\n",
    "\n",
    "# Evaluate results with trec_eval\n",
    "run_trec_eval('/home/travis/data/nct_link/l2r/rand500/qrels.train.full.txt', '/tmp/' + name + '.txt')\n",
    "\n",
    "\n",
    "print_evaluation(preds, test.y)\n",
    "\n",
    "\n",
    "# evaluate_folder('/home/travis/work/nct_link/experiments/rand500/l2r_v4/test.full/',\n",
    "#                 '/home/travis/data/nct_link/l2r/rand500/qrels.test.full.txt', \n",
    "#                 scaled_model_fulls, scale_data, 'highway-10s', scorer=lambda x: x[:,0] + 1)\n",
    "\n"
   ]
  },
  {
   "cell_type": "code",
   "execution_count": 17,
   "metadata": {},
   "outputs": [
    {
     "name": "stdout",
     "output_type": "stream",
     "text": [
      "runid                 \tall\ttest\n",
      " num_q                 \tall\t300\n",
      " num_ret               \tall\t12765\n",
      " num_rel               \tall\t1060\n",
      " num_rel_ret           \tall\t939\n",
      " map                   \tall\t0.6993\n",
      " gm_map                \tall\t0.3278\n",
      " Rprec                 \tall\t0.6562\n",
      " bpref                 \tall\t0.6538\n",
      " recip_rank            \tall\t0.7731\n",
      " iprec_at_recall_0.00  \tall\t0.7788\n",
      " iprec_at_recall_0.10  \tall\t0.7771\n",
      " iprec_at_recall_0.20  \tall\t0.7731\n",
      " iprec_at_recall_0.30  \tall\t0.7670\n",
      " iprec_at_recall_0.40  \tall\t0.7497\n",
      " iprec_at_recall_0.50  \tall\t0.7381\n",
      " iprec_at_recall_0.60  \tall\t0.6824\n",
      " iprec_at_recall_0.70  \tall\t0.6720\n",
      " iprec_at_recall_0.80  \tall\t0.6324\n",
      " iprec_at_recall_0.90  \tall\t0.6021\n",
      " iprec_at_recall_1.00  \tall\t0.5938\n",
      " P_5                   \tall\t0.2687\n",
      " P_10                  \tall\t0.1723\n",
      " P_15                  \tall\t0.1309\n",
      " P_20                  \tall\t0.1083\n",
      " P_30                  \tall\t0.0821\n",
      " P_100                 \tall\t0.0307\n",
      " P_200                 \tall\t0.0156\n",
      " P_500                 \tall\t0.0063\n",
      " P_1000                \tall\t0.0031\n",
      "\n"
     ]
    }
   ],
   "source": [
    "# Evaluate results with trec_eval\n",
    "run_trec_eval('/home/travis/data/nct_link/l2r/rand500/qrels.train.full.txt', '/tmp/test2.txt', '-J')"
   ]
  },
  {
   "cell_type": "code",
   "execution_count": 4,
   "metadata": {},
   "outputs": [
    {
     "name": "stdout",
     "output_type": "stream",
     "text": [
      "Counter({1.0: 12207, 0.0: 11826})\n"
     ]
    }
   ],
   "source": [
    "import numpy as np\n",
    "from collections import Counter\n",
    "\n",
    "def balanced_pointwise_data(train):\n",
    "    # Make dense\n",
    "    train_pointwise_X = train.X\n",
    "    train_pointwise_y = train.y.flatten()\n",
    "\n",
    "    # Count samples per label\n",
    "    counts = Counter(train_pointwise_y)\n",
    "    idx = np.where(train.y == 1)[0]\n",
    "\n",
    "    # Adjust inbalance\n",
    "    remaining = counts[0] - counts[1]\n",
    "    balanced_pointwise_X = []\n",
    "    balanced_pointwise_X.extend(train_pointwise_X)\n",
    "    balanced_pointwise_y = []\n",
    "    balanced_pointwise_y.extend(train_pointwise_y)\n",
    "    while remaining > 0:\n",
    "        balanced_pointwise_X.extend(train_pointwise_X[idx, :])\n",
    "        balanced_pointwise_y.extend(len(idx) * [1])\n",
    "        remaining = remaining - len(idx)\n",
    "\n",
    "    # Convert back to dense numpy format\n",
    "    train_pointwise_X = np.array(balanced_pointwise_X)\n",
    "    train_pointwise_y = np.array(balanced_pointwise_y)\n",
    "    counts = Counter(train_pointwise_y.flatten())\n",
    "    print(counts)\n",
    "    \n",
    "    return train_pointwise_X, train_pointwise_y\n",
    "\n",
    "train_pointwise_X , train_pointwise_y = balanced_pointwise_data(train)"
   ]
  },
  {
   "cell_type": "code",
   "execution_count": 10,
   "metadata": {},
   "outputs": [
    {
     "name": "stdout",
     "output_type": "stream",
     "text": [
      "Training Step: 3380  | total loss: \u001b[1m\u001b[32m0.35977\u001b[0m\u001b[0m | time: 5.540s\n",
      "\u001b[2K\r",
      "| Adam | epoch: 010 | loss: 0.35977 - acc: 0.8225 -- iter: 21629/21629\n"
     ]
    }
   ],
   "source": [
    "import tensorflow as tf\n",
    "import tflearn\n",
    "\n",
    "def build_l2r_highway_model_pointwise(layers=10, dims=147):\n",
    "    tf.reset_default_graph()\n",
    "#     with tf.Graph().as_default() as graph:\n",
    "    dpp = tflearn.DataPreprocessing()\n",
    "    dpp.add_featurewise_zero_center()\n",
    "    dpp.add_featurewise_stdnorm()\n",
    "\n",
    "    net = tflearn.input_data(shape=[None, 147],  data_preprocessing=dpp)\n",
    "    net = tflearn.fully_connected(net, dims)\n",
    "    for _ in xrange(layers):\n",
    "        net = tflearn.highway(net, dims, activation='ReLU')\n",
    "    net = tflearn.dropout(net, 0.5)\n",
    "    net = tflearn.fully_connected(net, 2, activation='softmax')\n",
    "    net = tflearn.regression(net, to_one_hot=True, n_classes=2)\n",
    "\n",
    "    # Define model\n",
    "    model = tflearn.DNN(net)\n",
    "\n",
    "    return model\n",
    "\n",
    "\n",
    "\n",
    "    \n",
    "pointwise_model = build_l2r_highway_model_pointwise(dims=500)\n",
    "pointwise_model.fit(train_pointwise_X, train_pointwise_y, \n",
    "                    show_metric=True, snapshot_epoch=False, shuffle=True, validation_set=0.10, n_epoch=10)\n"
   ]
  },
  {
   "cell_type": "code",
   "execution_count": 29,
   "metadata": {},
   "outputs": [
    {
     "name": "stdout",
     "output_type": "stream",
     "text": [
      "[(1.0, 1.0), (1.0, 1.0), (1.0, 1.0), (1.0, 0.0), (1.0, 1.0), (1.0, 0.0), (1.0, 0.0), (1.0, 0.0), (1.0, 1.0), (1.0, 0.0)]\n",
      "runid                 \tall\ttest\n",
      " num_q                 \tall\t100\n",
      " num_ret               \tall\t167\n",
      " num_rel               \tall\t330\n",
      " num_rel_ret           \tall\t167\n",
      " map                   \tall\t0.6200\n",
      " gm_map                \tall\t0.0276\n",
      " Rprec                 \tall\t0.6200\n",
      " bpref                 \tall\t0.6200\n",
      " recip_rank            \tall\t0.7000\n",
      " iprec_at_recall_0.00  \tall\t  -nan\n",
      " iprec_at_recall_0.10  \tall\t0.7000\n",
      " iprec_at_recall_0.20  \tall\t0.6700\n",
      " iprec_at_recall_0.30  \tall\t0.6700\n",
      " iprec_at_recall_0.40  \tall\t0.6300\n",
      " iprec_at_recall_0.50  \tall\t0.6200\n",
      " iprec_at_recall_0.60  \tall\t0.6000\n",
      " iprec_at_recall_0.70  \tall\t0.6000\n",
      " iprec_at_recall_0.80  \tall\t0.5600\n",
      " iprec_at_recall_0.90  \tall\t0.5600\n",
      " iprec_at_recall_1.00  \tall\t0.5600\n",
      " P_5                   \tall\t0.2220\n",
      " P_10                  \tall\t0.1220\n",
      " P_15                  \tall\t0.0873\n",
      " P_20                  \tall\t0.0680\n",
      " P_30                  \tall\t0.0487\n",
      " P_100                 \tall\t0.0167\n",
      " P_200                 \tall\t0.0084\n",
      " P_500                 \tall\t0.0033\n",
      " P_1000                \tall\t0.0017\n",
      "\n"
     ]
    }
   ],
   "source": [
    "from sklearn.metrics import classification_report,confusion_matrix\n",
    "\n",
    "\n",
    "test = load_data(\"/home/travis/work/nct_link/experiments/rand500/l2r_v4/test.all/vectors.smr\")\n",
    "\n",
    "def print_evaluation(preds, gold):\n",
    "#    print(classification_report(preds, gold))\n",
    "    print(sorted(zip(preds[:,1], gold), key=lambda x: x[0], reverse=True)[:10])\n",
    "\n",
    "def chunks(l, n):\n",
    "    \"\"\"Yield successive n-sized chunks from l.\"\"\"\n",
    "    for i in range(0, len(l), n):\n",
    "        yield l[i:i + n,:]\n",
    "        \n",
    "y_pred = []\n",
    "for X in chunks(test.X, 10000):\n",
    "    y_pred.extend(pointwise_model.predict(X))\n",
    "\n",
    "y_pred = np.array(y_pred)\n",
    "\n",
    "print_evaluation(y_pred, test.y)\n",
    "\n",
    "# Write the TREC submission file in the experiment folder\n",
    "name = \"test\"\n",
    "write_trec_submission_file(test.source, y_pred[:, 1], name, '/tmp/' + name + '.txt')\n",
    "\n",
    "# Evaluate results with trec_eval\n",
    "run_trec_eval('/home/travis/data/nct_link/results_qrels.txt', '/tmp/' + name + '.txt', '-J')\n",
    "# from sklearn.metrics import classification_report,confusion_matrix\n",
    "# from scipy.special import expit\n",
    "\n",
    "# test = load_data(\"/home/travis/work/nct_link/experiments/rand500/l2r_v4/train.full/vectors.smr\")\n",
    "\n",
    "# def print_evaluation(preds, gold):\n",
    "# #    print(classification_report(preds, gold))\n",
    "#     print(sorted(zip(preds, gold), key=lambda x: x[0], reverse=True)[:10])\n",
    "\n",
    "# preds = pointwise_model.predict_labels(scale_data(test.X.toarray()))\n",
    "\n",
    "# print_evaluation(preds, test.y)\n",
    "\n",
    "# evaluate_folder('/home/travis/work/nct_link/experiments/rand500/l2r_v4/train.full/',\n",
    "#                 '/home/travis/data/nct_link/l2r/rand500/qrels.train.full.txt', \n",
    "#                 pointwise_model, scale_data, 'highway-10p', scorer=lambda x: x[:,0])"
   ]
  },
  {
   "cell_type": "code",
   "execution_count": 31,
   "metadata": {},
   "outputs": [],
   "source": [
    "def load_ranklib_scores(source):\n",
    "    scores = []\n",
    "    with open(source) as f:\n",
    "        for line in f:\n",
    "            scores.append(line.split()[2])\n",
    "    return scores\n",
    "\n",
    "def evaluate_ranklib_run(folder, qrels, vectors=\"vectors.smr\", scores=\"scores.txt\"):\n",
    "    scores = load_ranklib_scores(folder + \"/\" + scores)\n",
    "    write_trec_submission_file(folder + \"/\" + vectors, scores, \"ranklib\", folder + '/run.txt')\n",
    "    run_trec_eval(qrels, folder + '/run.txt')\n",
    "    \n",
    "    \n",
    "# evaluate_ranklib_run('/home/travis/work/nct_link/experiments/rand500/l2r_v4/test.full', \n",
    "#                      '/users/travis/data/nct_link/l2r/rand500/qrels.test.full.txt', 'vectors.shuf.smr', 'rfscores.txt')\n",
    "            \n"
   ]
  },
  {
   "cell_type": "code",
   "execution_count": 5,
   "metadata": {},
   "outputs": [
    {
     "name": "stdout",
     "output_type": "stream",
     "text": [
      "runid                 \tall\tranklib\n",
      " num_q                 \tall\t100\n",
      " num_ret               \tall\t4139\n",
      " num_rel               \tall\t327\n",
      " num_rel_ret           \tall\t300\n",
      " map                   \tall\t0.7171\n",
      " gm_map                \tall\t0.2758\n",
      " Rprec                 \tall\t0.6843\n",
      " bpref                 \tall\t0.6764\n",
      " recip_rank            \tall\t0.7909\n",
      " iprec_at_recall_0.00  \tall\t0.8041\n",
      " iprec_at_recall_0.10  \tall\t0.7978\n",
      " iprec_at_recall_0.20  \tall\t0.7947\n",
      " iprec_at_recall_0.30  \tall\t0.7912\n",
      " iprec_at_recall_0.40  \tall\t0.7787\n",
      " iprec_at_recall_0.50  \tall\t0.7676\n",
      " iprec_at_recall_0.60  \tall\t0.6984\n",
      " iprec_at_recall_0.70  \tall\t0.6847\n",
      " iprec_at_recall_0.80  \tall\t0.6391\n",
      " iprec_at_recall_0.90  \tall\t0.6308\n",
      " iprec_at_recall_1.00  \tall\t0.6210\n",
      " P_5                   \tall\t0.2820\n",
      " P_10                  \tall\t0.1820\n",
      " P_15                  \tall\t0.1373\n",
      " P_20                  \tall\t0.1125\n",
      " P_30                  \tall\t0.0850\n",
      " P_100                 \tall\t0.0300\n",
      " P_200                 \tall\t0.0150\n",
      " P_500                 \tall\t0.0060\n",
      " P_1000                \tall\t0.0030\n",
      "\n"
     ]
    }
   ],
   "source": [
    "evaluate_ranklib_run('/home/travis/work/nct_link/experiments/rand500/l2r_v4/test.full', \n",
    "                     '/users/travis/data/nct_link/l2r/rand500/qrels.test.full.txt', 'vectors.shuf.smr', 'martscores.txt')"
   ]
  },
  {
   "cell_type": "code",
   "execution_count": 33,
   "metadata": {},
   "outputs": [
    {
     "name": "stdout",
     "output_type": "stream",
     "text": [
      "runid                 \tall\tranklib\n",
      " num_q                 \tall\t100\n",
      " num_ret               \tall\t98369\n",
      " num_rel               \tall\t327\n",
      " num_rel_ret           \tall\t167\n",
      " map                   \tall\t0.0066\n",
      " gm_map                \tall\t0.0006\n",
      " Rprec                 \tall\t0.0002\n",
      " bpref                 \tall\t0.1084\n",
      " recip_rank            \tall\t0.0069\n",
      " iprec_at_recall_0.00  \tall\t0.0073\n",
      " iprec_at_recall_0.10  \tall\t0.0072\n",
      " iprec_at_recall_0.20  \tall\t0.0070\n",
      " iprec_at_recall_0.30  \tall\t0.0070\n",
      " iprec_at_recall_0.40  \tall\t0.0068\n",
      " iprec_at_recall_0.50  \tall\t0.0068\n",
      " iprec_at_recall_0.60  \tall\t0.0066\n",
      " iprec_at_recall_0.70  \tall\t0.0066\n",
      " iprec_at_recall_0.80  \tall\t0.0064\n",
      " iprec_at_recall_0.90  \tall\t0.0064\n",
      " iprec_at_recall_1.00  \tall\t0.0064\n",
      " P_5                   \tall\t0.0020\n",
      " P_10                  \tall\t0.0010\n",
      " P_15                  \tall\t0.0007\n",
      " P_20                  \tall\t0.0010\n",
      " P_30                  \tall\t0.0013\n",
      " P_100                 \tall\t0.0015\n",
      " P_200                 \tall\t0.0015\n",
      " P_500                 \tall\t0.0018\n",
      " P_1000                \tall\t0.0017\n",
      "\n"
     ]
    }
   ],
   "source": [
    "evaluate_ranklib_run('/home/travis/work/nct_link/experiments/rand500/l2r_v4/test.all', \n",
    "                     '/users/travis/data/nct_link/l2r/rand500/qrels.test.full.txt', 'vectors.smr', 'lrscores.txt')"
   ]
  },
  {
   "cell_type": "code",
   "execution_count": 32,
   "metadata": {},
   "outputs": [
    {
     "name": "stdout",
     "output_type": "stream",
     "text": [
      "runid                 \tall\tranklib\n",
      " num_q                 \tall\t100\n",
      " num_ret               \tall\t98369\n",
      " num_rel               \tall\t327\n",
      " num_rel_ret           \tall\t167\n",
      " map                   \tall\t0.2687\n",
      " gm_map                \tall\t0.0062\n",
      " Rprec                 \tall\t0.2361\n",
      " bpref                 \tall\t0.5052\n",
      " recip_rank            \tall\t0.3015\n",
      " iprec_at_recall_0.00  \tall\t0.3026\n",
      " iprec_at_recall_0.10  \tall\t0.2923\n",
      " iprec_at_recall_0.20  \tall\t0.2909\n",
      " iprec_at_recall_0.30  \tall\t0.2901\n",
      " iprec_at_recall_0.40  \tall\t0.2839\n",
      " iprec_at_recall_0.50  \tall\t0.2832\n",
      " iprec_at_recall_0.60  \tall\t0.2493\n",
      " iprec_at_recall_0.70  \tall\t0.2493\n",
      " iprec_at_recall_0.80  \tall\t0.2477\n",
      " iprec_at_recall_0.90  \tall\t0.2469\n",
      " iprec_at_recall_1.00  \tall\t0.2469\n",
      " P_5                   \tall\t0.0820\n",
      " P_10                  \tall\t0.0460\n",
      " P_15                  \tall\t0.0320\n",
      " P_20                  \tall\t0.0255\n",
      " P_30                  \tall\t0.0200\n",
      " P_100                 \tall\t0.0097\n",
      " P_200                 \tall\t0.0055\n",
      " P_500                 \tall\t0.0030\n",
      " P_1000                \tall\t0.0017\n",
      "\n"
     ]
    }
   ],
   "source": [
    "evaluate_ranklib_run('/home/travis/work/nct_link/experiments/rand500/l2r_v4/test.all', \n",
    "                     '/users/travis/data/nct_link/l2r/rand500/qrels.test.full.txt', 'vectors.shuf.smr', 'lrscores.txt')"
   ]
  },
  {
   "cell_type": "code",
   "execution_count": null,
   "metadata": {
    "collapsed": true
   },
   "outputs": [],
   "source": [
    "train_all = load_data(\"/home/travis/work/nct_link/experiments/rand500/l2r_v4/train.all/vectors.smr\")\n",
    "train_all = pairwise_transform(train_all)\n",
    "model_all = build_l2r_highway_model()"
   ]
  },
  {
   "cell_type": "code",
   "execution_count": null,
   "metadata": {
    "collapsed": true
   },
   "outputs": [],
   "source": [
    "model_all.fit(scale_data(train_all.X), train_all.y, show_metric=True, snapshot_epoch=False, shuffle=True)"
   ]
  },
  {
   "cell_type": "code",
   "execution_count": 164,
   "metadata": {},
   "outputs": [
    {
     "name": "stdout",
     "output_type": "stream",
     "text": [
      "runid                 \tall\thighway_v1\n",
      " num_q                 \tall\t100\n",
      " num_ret               \tall\t98369\n",
      " num_rel               \tall\t327\n",
      " num_rel_ret           \tall\t167\n",
      " map                   \tall\t0.0027\n",
      " gm_map                \tall\t0.0004\n",
      " Rprec                 \tall\t0.0008\n",
      " bpref                 \tall\t0.0766\n",
      " recip_rank            \tall\t0.0026\n",
      " iprec_at_recall_0.00  \tall\t0.0040\n",
      " iprec_at_recall_0.10  \tall\t0.0035\n",
      " iprec_at_recall_0.20  \tall\t0.0031\n",
      " iprec_at_recall_0.30  \tall\t0.0030\n",
      " iprec_at_recall_0.40  \tall\t0.0029\n",
      " iprec_at_recall_0.50  \tall\t0.0028\n",
      " iprec_at_recall_0.60  \tall\t0.0027\n",
      " iprec_at_recall_0.70  \tall\t0.0027\n",
      " iprec_at_recall_0.80  \tall\t0.0025\n",
      " iprec_at_recall_0.90  \tall\t0.0025\n",
      " iprec_at_recall_1.00  \tall\t0.0024\n",
      " P_5                   \tall\t0.0000\n",
      " P_10                  \tall\t0.0000\n",
      " P_15                  \tall\t0.0000\n",
      " P_20                  \tall\t0.0015\n",
      " P_30                  \tall\t0.0010\n",
      " P_100                 \tall\t0.0009\n",
      " P_200                 \tall\t0.0011\n",
      " P_500                 \tall\t0.0014\n",
      " P_1000                \tall\t0.0017\n",
      "\n"
     ]
    }
   ],
   "source": [
    "evaluate_folder('/home/travis/work/nct_link/experiments/rand500/l2r_v4/test.all/',\n",
    "               '/home/travis/data/nct_link/l2r/rand500/qrels.test.full.txt', model_all)"
   ]
  },
  {
   "cell_type": "code",
   "execution_count": null,
   "metadata": {
    "collapsed": true
   },
   "outputs": [],
   "source": []
  }
 ],
 "metadata": {
  "kernelspec": {
   "display_name": "Python 2",
   "language": "python",
   "name": "python2"
  },
  "language_info": {
   "codemirror_mode": {
    "name": "ipython",
    "version": 2
   },
   "file_extension": ".py",
   "mimetype": "text/x-python",
   "name": "python",
   "nbconvert_exporter": "python",
   "pygments_lexer": "ipython2",
   "version": "2.7.8"
  }
 },
 "nbformat": 4,
 "nbformat_minor": 2
}
